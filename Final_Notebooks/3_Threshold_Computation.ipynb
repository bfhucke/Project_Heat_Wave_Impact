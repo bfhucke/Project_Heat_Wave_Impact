{
 "cells": [
  {
   "cell_type": "markdown",
   "metadata": {},
   "source": [
    "# Threshold computation"
   ]
  },
  {
   "cell_type": "code",
   "execution_count": 1,
   "metadata": {},
   "outputs": [
    {
     "name": "stderr",
     "output_type": "stream",
     "text": [
      "C:\\Users\\benhu\\anaconda3\\lib\\site-packages\\xarray\\backends\\cfgrib_.py:27: UserWarning: Failed to load cfgrib - most likely there is a problem accessing the ecCodes library. Try `import cfgrib` to get the full error message\n",
      "  warnings.warn(\n"
     ]
    }
   ],
   "source": [
    "# load required libraries\n",
    "import pandas as pd\n",
    "import xarray as xr"
   ]
  },
  {
   "cell_type": "markdown",
   "metadata": {},
   "source": [
    "# Download 1970-1978"
   ]
  },
  {
   "cell_type": "code",
   "execution_count": 2,
   "metadata": {},
   "outputs": [],
   "source": [
    "# source of the definition applied\n",
    "# https://link.springer.com/content/pdf/10.1007%2Fs10113-013-0499-2.pdf"
   ]
  },
  {
   "cell_type": "markdown",
   "metadata": {},
   "source": [
    "import cdsapi\n",
    "\n",
    "c = cdsapi.Client()\n",
    "\n",
    "c.retrieve(\n",
    "    'reanalysis-era5-single-levels-preliminary-back-extension',\n",
    "    {\n",
    "        'product_type': 'reanalysis',\n",
    "        'format': 'netcdf',\n",
    "        'variable': [\n",
    "            '2m_dewpoint_temperature', '2m_temperature',\n",
    "        ],\n",
    "        'year': [\n",
    "            '1970', '1971', '1972', '1973',\n",
    "            '1974', '1975', '1976',\n",
    "            '1977', '1978',\n",
    "        ],\n",
    "        'month': [\n",
    "            '05', '06', '07',\n",
    "            '08', '09',\n",
    "        ],\n",
    "        'day': [\n",
    "            '01', '02', '03',\n",
    "            '04', '05', '06',\n",
    "            '07', '08', '09',\n",
    "            '10', '11', '12',\n",
    "            '13', '14', '15',\n",
    "            '16', '17', '18',\n",
    "            '19', '20', '21',\n",
    "            '22', '23', '24',\n",
    "            '25', '26', '27',\n",
    "            '28', '29', '30',\n",
    "            '31',\n",
    "        ],\n",
    "        'time': '16:00',\n",
    "        'area': [\n",
    "            71.2, -10, 37,\n",
    "            30,\n",
    "        ],\n",
    "    },\n",
    "    'download_threshold_1970_1978.nc')"
   ]
  },
  {
   "cell_type": "code",
   "execution_count": 3,
   "metadata": {},
   "outputs": [
    {
     "name": "stderr",
     "output_type": "stream",
     "text": [
      "C:\\Users\\benhu\\anaconda3\\lib\\site-packages\\xarray\\backends\\plugins.py:61: RuntimeWarning: Engine 'cfgrib' loading failed:\n",
      "ecCodes library not found using ['eccodes', 'libeccodes.so', 'libeccodes']\n",
      "  warnings.warn(f\"Engine {name!r} loading failed:\\n{ex}\", RuntimeWarning)\n"
     ]
    }
   ],
   "source": [
    "# convert raw data to pandas df\n",
    "ds = xr.open_dataset('download_threshold_1970_1978.nc')\n",
    "df = ds.to_dataframe()"
   ]
  },
  {
   "cell_type": "code",
   "execution_count": 4,
   "metadata": {},
   "outputs": [
    {
     "data": {
      "text/html": [
       "<div>\n",
       "<style scoped>\n",
       "    .dataframe tbody tr th:only-of-type {\n",
       "        vertical-align: middle;\n",
       "    }\n",
       "\n",
       "    .dataframe tbody tr th {\n",
       "        vertical-align: top;\n",
       "    }\n",
       "\n",
       "    .dataframe thead th {\n",
       "        text-align: right;\n",
       "    }\n",
       "</style>\n",
       "<table border=\"1\" class=\"dataframe\">\n",
       "  <thead>\n",
       "    <tr style=\"text-align: right;\">\n",
       "      <th></th>\n",
       "      <th></th>\n",
       "      <th></th>\n",
       "      <th>d2m</th>\n",
       "      <th>t2m</th>\n",
       "    </tr>\n",
       "    <tr>\n",
       "      <th>longitude</th>\n",
       "      <th>latitude</th>\n",
       "      <th>time</th>\n",
       "      <th></th>\n",
       "      <th></th>\n",
       "    </tr>\n",
       "  </thead>\n",
       "  <tbody>\n",
       "    <tr>\n",
       "      <th rowspan=\"5\" valign=\"top\">-10.0</th>\n",
       "      <th rowspan=\"5\" valign=\"top\">71.0</th>\n",
       "      <th>1970-05-01 16:00:00</th>\n",
       "      <td>274.148407</td>\n",
       "      <td>274.242004</td>\n",
       "    </tr>\n",
       "    <tr>\n",
       "      <th>1970-05-02 16:00:00</th>\n",
       "      <td>273.001862</td>\n",
       "      <td>273.792358</td>\n",
       "    </tr>\n",
       "    <tr>\n",
       "      <th>1970-05-03 16:00:00</th>\n",
       "      <td>274.192993</td>\n",
       "      <td>274.629547</td>\n",
       "    </tr>\n",
       "    <tr>\n",
       "      <th>1970-05-04 16:00:00</th>\n",
       "      <td>273.576294</td>\n",
       "      <td>274.357300</td>\n",
       "    </tr>\n",
       "    <tr>\n",
       "      <th>1970-05-05 16:00:00</th>\n",
       "      <td>274.887207</td>\n",
       "      <td>275.039948</td>\n",
       "    </tr>\n",
       "  </tbody>\n",
       "</table>\n",
       "</div>"
      ],
      "text/plain": [
       "                                               d2m         t2m\n",
       "longitude latitude time                                       \n",
       "-10.0     71.0     1970-05-01 16:00:00  274.148407  274.242004\n",
       "                   1970-05-02 16:00:00  273.001862  273.792358\n",
       "                   1970-05-03 16:00:00  274.192993  274.629547\n",
       "                   1970-05-04 16:00:00  273.576294  274.357300\n",
       "                   1970-05-05 16:00:00  274.887207  275.039948"
      ]
     },
     "execution_count": 4,
     "metadata": {},
     "output_type": "execute_result"
    }
   ],
   "source": [
    "# show instances\n",
    "df.head(5)"
   ]
  },
  {
   "cell_type": "code",
   "execution_count": 5,
   "metadata": {},
   "outputs": [],
   "source": [
    "# get coordinates and time as variables\n",
    "df = df.reset_index(level=['longitude', 'latitude', 'time'])"
   ]
  },
  {
   "cell_type": "code",
   "execution_count": 6,
   "metadata": {},
   "outputs": [
    {
     "data": {
      "text/html": [
       "<div>\n",
       "<style scoped>\n",
       "    .dataframe tbody tr th:only-of-type {\n",
       "        vertical-align: middle;\n",
       "    }\n",
       "\n",
       "    .dataframe tbody tr th {\n",
       "        vertical-align: top;\n",
       "    }\n",
       "\n",
       "    .dataframe thead th {\n",
       "        text-align: right;\n",
       "    }\n",
       "</style>\n",
       "<table border=\"1\" class=\"dataframe\">\n",
       "  <thead>\n",
       "    <tr style=\"text-align: right;\">\n",
       "      <th></th>\n",
       "      <th>longitude</th>\n",
       "      <th>latitude</th>\n",
       "      <th>time</th>\n",
       "      <th>d2m</th>\n",
       "      <th>t2m</th>\n",
       "    </tr>\n",
       "  </thead>\n",
       "  <tbody>\n",
       "    <tr>\n",
       "      <th>0</th>\n",
       "      <td>-10.0</td>\n",
       "      <td>71.0</td>\n",
       "      <td>1970-05-01 16:00:00</td>\n",
       "      <td>274.148407</td>\n",
       "      <td>274.242004</td>\n",
       "    </tr>\n",
       "    <tr>\n",
       "      <th>1</th>\n",
       "      <td>-10.0</td>\n",
       "      <td>71.0</td>\n",
       "      <td>1970-05-02 16:00:00</td>\n",
       "      <td>273.001862</td>\n",
       "      <td>273.792358</td>\n",
       "    </tr>\n",
       "    <tr>\n",
       "      <th>2</th>\n",
       "      <td>-10.0</td>\n",
       "      <td>71.0</td>\n",
       "      <td>1970-05-03 16:00:00</td>\n",
       "      <td>274.192993</td>\n",
       "      <td>274.629547</td>\n",
       "    </tr>\n",
       "    <tr>\n",
       "      <th>3</th>\n",
       "      <td>-10.0</td>\n",
       "      <td>71.0</td>\n",
       "      <td>1970-05-04 16:00:00</td>\n",
       "      <td>273.576294</td>\n",
       "      <td>274.357300</td>\n",
       "    </tr>\n",
       "    <tr>\n",
       "      <th>4</th>\n",
       "      <td>-10.0</td>\n",
       "      <td>71.0</td>\n",
       "      <td>1970-05-05 16:00:00</td>\n",
       "      <td>274.887207</td>\n",
       "      <td>275.039948</td>\n",
       "    </tr>\n",
       "  </tbody>\n",
       "</table>\n",
       "</div>"
      ],
      "text/plain": [
       "   longitude  latitude                time         d2m         t2m\n",
       "0      -10.0      71.0 1970-05-01 16:00:00  274.148407  274.242004\n",
       "1      -10.0      71.0 1970-05-02 16:00:00  273.001862  273.792358\n",
       "2      -10.0      71.0 1970-05-03 16:00:00  274.192993  274.629547\n",
       "3      -10.0      71.0 1970-05-04 16:00:00  273.576294  274.357300\n",
       "4      -10.0      71.0 1970-05-05 16:00:00  274.887207  275.039948"
      ]
     },
     "execution_count": 6,
     "metadata": {},
     "output_type": "execute_result"
    }
   ],
   "source": [
    "# show first instances\n",
    "df.head()"
   ]
  },
  {
   "cell_type": "code",
   "execution_count": 7,
   "metadata": {},
   "outputs": [
    {
     "data": {
      "text/plain": [
       "(30372489, 5)"
      ]
     },
     "execution_count": 7,
     "metadata": {},
     "output_type": "execute_result"
    }
   ],
   "source": [
    "# inspect shape\n",
    "df.shape"
   ]
  },
  {
   "cell_type": "code",
   "execution_count": 8,
   "metadata": {},
   "outputs": [
    {
     "data": {
      "text/html": [
       "<div>\n",
       "<style scoped>\n",
       "    .dataframe tbody tr th:only-of-type {\n",
       "        vertical-align: middle;\n",
       "    }\n",
       "\n",
       "    .dataframe tbody tr th {\n",
       "        vertical-align: top;\n",
       "    }\n",
       "\n",
       "    .dataframe thead th {\n",
       "        text-align: right;\n",
       "    }\n",
       "</style>\n",
       "<table border=\"1\" class=\"dataframe\">\n",
       "  <thead>\n",
       "    <tr style=\"text-align: right;\">\n",
       "      <th></th>\n",
       "      <th>lat</th>\n",
       "      <th>lon</th>\n",
       "      <th>country</th>\n",
       "      <th>NUTS1</th>\n",
       "      <th>NUTS2</th>\n",
       "      <th>NUTS3</th>\n",
       "    </tr>\n",
       "  </thead>\n",
       "  <tbody>\n",
       "    <tr>\n",
       "      <th>22</th>\n",
       "      <td>54.25</td>\n",
       "      <td>-10.00</td>\n",
       "      <td>IE</td>\n",
       "      <td>IE0</td>\n",
       "      <td>IE04</td>\n",
       "      <td>IE042</td>\n",
       "    </tr>\n",
       "    <tr>\n",
       "      <th>23</th>\n",
       "      <td>53.50</td>\n",
       "      <td>-10.00</td>\n",
       "      <td>IE</td>\n",
       "      <td>IE0</td>\n",
       "      <td>IE04</td>\n",
       "      <td>IE042</td>\n",
       "    </tr>\n",
       "    <tr>\n",
       "      <th>25</th>\n",
       "      <td>52.00</td>\n",
       "      <td>-10.00</td>\n",
       "      <td>IE</td>\n",
       "      <td>IE0</td>\n",
       "      <td>IE05</td>\n",
       "      <td>IE053</td>\n",
       "    </tr>\n",
       "    <tr>\n",
       "      <th>68</th>\n",
       "      <td>54.25</td>\n",
       "      <td>-9.25</td>\n",
       "      <td>IE</td>\n",
       "      <td>IE0</td>\n",
       "      <td>IE04</td>\n",
       "      <td>IE042</td>\n",
       "    </tr>\n",
       "    <tr>\n",
       "      <th>69</th>\n",
       "      <td>53.50</td>\n",
       "      <td>-9.25</td>\n",
       "      <td>IE</td>\n",
       "      <td>IE0</td>\n",
       "      <td>IE04</td>\n",
       "      <td>IE042</td>\n",
       "    </tr>\n",
       "  </tbody>\n",
       "</table>\n",
       "</div>"
      ],
      "text/plain": [
       "      lat    lon country NUTS1 NUTS2  NUTS3\n",
       "22  54.25 -10.00      IE   IE0  IE04  IE042\n",
       "23  53.50 -10.00      IE   IE0  IE04  IE042\n",
       "25  52.00 -10.00      IE   IE0  IE05  IE053\n",
       "68  54.25  -9.25      IE   IE0  IE04  IE042\n",
       "69  53.50  -9.25      IE   IE0  IE04  IE042"
      ]
     },
     "execution_count": 8,
     "metadata": {},
     "output_type": "execute_result"
    }
   ],
   "source": [
    "# loading locations dataframe in order to filter the observations in the reference period data to those that are present in the\n",
    "# more modern data\n",
    "locations = pd.read_csv('locations1.csv', index_col=0)\n",
    "locations.head()"
   ]
  },
  {
   "cell_type": "code",
   "execution_count": 9,
   "metadata": {},
   "outputs": [],
   "source": [
    "# get column with coordinates for location data\n",
    "locations['lat_long'] = locations[['lat', 'lon']].apply(tuple, axis=1)"
   ]
  },
  {
   "cell_type": "markdown",
   "metadata": {},
   "source": [
    "Iterating over latitude and longitude to delete observations that do not appear in either the lat or lon column of the location dataset. The result is that there might still be combinations of latitude and longitude that do not appear in the locations data. However, those will be dealt with later because the main intention of this intermediate step is to considerably decrease the data file size."
   ]
  },
  {
   "cell_type": "code",
   "execution_count": 10,
   "metadata": {},
   "outputs": [],
   "source": [
    "# get instances whose latitude is in the locations dataframe\n",
    "df1 = df[df['latitude'].isin(locations['lat'])]"
   ]
  },
  {
   "cell_type": "code",
   "execution_count": 11,
   "metadata": {},
   "outputs": [
    {
     "data": {
      "text/plain": [
       "(10198062, 5)"
      ]
     },
     "execution_count": 11,
     "metadata": {},
     "output_type": "execute_result"
    }
   ],
   "source": [
    "df1.shape"
   ]
  },
  {
   "cell_type": "code",
   "execution_count": 12,
   "metadata": {},
   "outputs": [],
   "source": [
    "# filter the obtained instances to those whose longitude is also in the locations data\n",
    "df1 = df1[df1['longitude'].isin(locations['lon'])]"
   ]
  },
  {
   "cell_type": "code",
   "execution_count": 13,
   "metadata": {},
   "outputs": [
    {
     "data": {
      "text/plain": [
       "(3420468, 5)"
      ]
     },
     "execution_count": 13,
     "metadata": {},
     "output_type": "execute_result"
    }
   ],
   "source": [
    "# inspect shape\n",
    "df1.shape"
   ]
  },
  {
   "cell_type": "code",
   "execution_count": 14,
   "metadata": {},
   "outputs": [],
   "source": [
    "# drop time\n",
    "df = df1.drop('time', 1)"
   ]
  },
  {
   "cell_type": "code",
   "execution_count": 15,
   "metadata": {},
   "outputs": [],
   "source": [
    "# Refining the filtered rows by creating a new column that combines latitude and longitude.\n",
    "# The step that was considered to be too demanding in terms of data storage before.\n",
    "df['lat_long'] = df[['latitude', 'longitude']].apply(tuple, axis=1)"
   ]
  },
  {
   "cell_type": "code",
   "execution_count": 16,
   "metadata": {},
   "outputs": [],
   "source": [
    "# only keep instances whose coordinates are in the locations data\n",
    "df = df[df['lat_long'].isin(locations['lat_long'])]"
   ]
  },
  {
   "cell_type": "code",
   "execution_count": 17,
   "metadata": {},
   "outputs": [
    {
     "data": {
      "text/plain": [
       "(1591812, 5)"
      ]
     },
     "execution_count": 17,
     "metadata": {},
     "output_type": "execute_result"
    }
   ],
   "source": [
    "# the number of instances has decreased strongly after filtering\n",
    "df.shape"
   ]
  },
  {
   "cell_type": "code",
   "execution_count": 18,
   "metadata": {},
   "outputs": [],
   "source": [
    "# get clesius\n",
    "df['t2m'] = df['t2m']-273.15\n",
    "df['d2m'] = df['d2m']-273.15"
   ]
  },
  {
   "cell_type": "code",
   "execution_count": 19,
   "metadata": {},
   "outputs": [],
   "source": [
    "# get apparent temperature\n",
    "df['apparent_temperature'] = -2.653+(0.994*df['t2m'])+(0.0153*df['d2m']**2)"
   ]
  },
  {
   "cell_type": "code",
   "execution_count": 20,
   "metadata": {},
   "outputs": [],
   "source": [
    "# store data for 1970 to 1978 in dataframe object\n",
    "df_78 = df.copy()"
   ]
  },
  {
   "cell_type": "markdown",
   "metadata": {},
   "source": [
    "# Download 1979-1999"
   ]
  },
  {
   "cell_type": "markdown",
   "metadata": {},
   "source": [
    "import cdsapi\n",
    "\n",
    "c = cdsapi.Client()\n",
    "\n",
    "c.retrieve(\n",
    "    'reanalysis-era5-single-levels',\n",
    "    {\n",
    "        'product_type': 'reanalysis',\n",
    "        'format': 'netcdf',\n",
    "        'variable': [\n",
    "            '2m_dewpoint_temperature', '2m_temperature',\n",
    "        ],\n",
    "        'year': [\n",
    "            '1979', '1980', '1981',\n",
    "            '1982', '1983', '1984',\n",
    "            '1985', '1986', '1987',\n",
    "            '1988', '1989', '1990',\n",
    "            '1991', '1992', '1993',\n",
    "            '1994', '1995', '1996',\n",
    "            '1997', '1998', '1999',\n",
    "        ],\n",
    "        'month': [\n",
    "            '05', '06', '07',\n",
    "            '08', '09',\n",
    "        ],\n",
    "        'day': [\n",
    "            '01', '02', '03',\n",
    "            '04', '05', '06',\n",
    "            '07', '08', '09',\n",
    "            '10', '11', '12',\n",
    "            '13', '14', '15',\n",
    "            '16', '17', '18',\n",
    "            '19', '20', '21',\n",
    "            '22', '23', '24',\n",
    "            '25', '26', '27',\n",
    "            '28', '29', '30',\n",
    "            '31',\n",
    "        ],\n",
    "        'time': '16:00',\n",
    "        'area': [\n",
    "            71.2, -10, 37,\n",
    "            30,\n",
    "        ],\n",
    "    },\n",
    "    'download_threshold_1979_1999.nc')"
   ]
  },
  {
   "cell_type": "code",
   "execution_count": 21,
   "metadata": {},
   "outputs": [],
   "source": [
    "# load and transform data to pandas df\n",
    "ds = xr.open_dataset('download_threshold_1979_1999.nc')\n",
    "df_1999 = ds.to_dataframe()"
   ]
  },
  {
   "cell_type": "code",
   "execution_count": 23,
   "metadata": {},
   "outputs": [
    {
     "data": {
      "text/html": [
       "<div>\n",
       "<style scoped>\n",
       "    .dataframe tbody tr th:only-of-type {\n",
       "        vertical-align: middle;\n",
       "    }\n",
       "\n",
       "    .dataframe tbody tr th {\n",
       "        vertical-align: top;\n",
       "    }\n",
       "\n",
       "    .dataframe thead th {\n",
       "        text-align: right;\n",
       "    }\n",
       "</style>\n",
       "<table border=\"1\" class=\"dataframe\">\n",
       "  <thead>\n",
       "    <tr style=\"text-align: right;\">\n",
       "      <th></th>\n",
       "      <th></th>\n",
       "      <th></th>\n",
       "      <th>d2m</th>\n",
       "      <th>t2m</th>\n",
       "    </tr>\n",
       "    <tr>\n",
       "      <th>longitude</th>\n",
       "      <th>latitude</th>\n",
       "      <th>time</th>\n",
       "      <th></th>\n",
       "      <th></th>\n",
       "    </tr>\n",
       "  </thead>\n",
       "  <tbody>\n",
       "    <tr>\n",
       "      <th rowspan=\"5\" valign=\"top\">-10.0</th>\n",
       "      <th rowspan=\"5\" valign=\"top\">71.0</th>\n",
       "      <th>1979-05-01 16:00:00</th>\n",
       "      <td>266.899475</td>\n",
       "      <td>271.257629</td>\n",
       "    </tr>\n",
       "    <tr>\n",
       "      <th>1979-05-02 16:00:00</th>\n",
       "      <td>265.873871</td>\n",
       "      <td>270.178864</td>\n",
       "    </tr>\n",
       "    <tr>\n",
       "      <th>1979-05-03 16:00:00</th>\n",
       "      <td>269.075348</td>\n",
       "      <td>272.265076</td>\n",
       "    </tr>\n",
       "    <tr>\n",
       "      <th>1979-05-04 16:00:00</th>\n",
       "      <td>269.593445</td>\n",
       "      <td>272.149017</td>\n",
       "    </tr>\n",
       "    <tr>\n",
       "      <th>1979-05-05 16:00:00</th>\n",
       "      <td>267.282318</td>\n",
       "      <td>271.494873</td>\n",
       "    </tr>\n",
       "  </tbody>\n",
       "</table>\n",
       "</div>"
      ],
      "text/plain": [
       "                                               d2m         t2m\n",
       "longitude latitude time                                       \n",
       "-10.0     71.0     1979-05-01 16:00:00  266.899475  271.257629\n",
       "                   1979-05-02 16:00:00  265.873871  270.178864\n",
       "                   1979-05-03 16:00:00  269.075348  272.265076\n",
       "                   1979-05-04 16:00:00  269.593445  272.149017\n",
       "                   1979-05-05 16:00:00  267.282318  271.494873"
      ]
     },
     "execution_count": 23,
     "metadata": {},
     "output_type": "execute_result"
    }
   ],
   "source": [
    "# show first instances\n",
    "df_1999.head()"
   ]
  },
  {
   "cell_type": "code",
   "execution_count": 24,
   "metadata": {},
   "outputs": [],
   "source": [
    "# get coordinates and time as columns\n",
    "df_1999 = df_1999.reset_index(level=['longitude', 'latitude', 'time'])"
   ]
  },
  {
   "cell_type": "code",
   "execution_count": 25,
   "metadata": {},
   "outputs": [
    {
     "data": {
      "text/html": [
       "<div>\n",
       "<style scoped>\n",
       "    .dataframe tbody tr th:only-of-type {\n",
       "        vertical-align: middle;\n",
       "    }\n",
       "\n",
       "    .dataframe tbody tr th {\n",
       "        vertical-align: top;\n",
       "    }\n",
       "\n",
       "    .dataframe thead th {\n",
       "        text-align: right;\n",
       "    }\n",
       "</style>\n",
       "<table border=\"1\" class=\"dataframe\">\n",
       "  <thead>\n",
       "    <tr style=\"text-align: right;\">\n",
       "      <th></th>\n",
       "      <th>longitude</th>\n",
       "      <th>latitude</th>\n",
       "      <th>time</th>\n",
       "      <th>d2m</th>\n",
       "      <th>t2m</th>\n",
       "    </tr>\n",
       "  </thead>\n",
       "  <tbody>\n",
       "    <tr>\n",
       "      <th>0</th>\n",
       "      <td>-10.0</td>\n",
       "      <td>71.0</td>\n",
       "      <td>1979-05-01 16:00:00</td>\n",
       "      <td>266.899475</td>\n",
       "      <td>271.257629</td>\n",
       "    </tr>\n",
       "    <tr>\n",
       "      <th>1</th>\n",
       "      <td>-10.0</td>\n",
       "      <td>71.0</td>\n",
       "      <td>1979-05-02 16:00:00</td>\n",
       "      <td>265.873871</td>\n",
       "      <td>270.178864</td>\n",
       "    </tr>\n",
       "    <tr>\n",
       "      <th>2</th>\n",
       "      <td>-10.0</td>\n",
       "      <td>71.0</td>\n",
       "      <td>1979-05-03 16:00:00</td>\n",
       "      <td>269.075348</td>\n",
       "      <td>272.265076</td>\n",
       "    </tr>\n",
       "    <tr>\n",
       "      <th>3</th>\n",
       "      <td>-10.0</td>\n",
       "      <td>71.0</td>\n",
       "      <td>1979-05-04 16:00:00</td>\n",
       "      <td>269.593445</td>\n",
       "      <td>272.149017</td>\n",
       "    </tr>\n",
       "    <tr>\n",
       "      <th>4</th>\n",
       "      <td>-10.0</td>\n",
       "      <td>71.0</td>\n",
       "      <td>1979-05-05 16:00:00</td>\n",
       "      <td>267.282318</td>\n",
       "      <td>271.494873</td>\n",
       "    </tr>\n",
       "  </tbody>\n",
       "</table>\n",
       "</div>"
      ],
      "text/plain": [
       "   longitude  latitude                time         d2m         t2m\n",
       "0      -10.0      71.0 1979-05-01 16:00:00  266.899475  271.257629\n",
       "1      -10.0      71.0 1979-05-02 16:00:00  265.873871  270.178864\n",
       "2      -10.0      71.0 1979-05-03 16:00:00  269.075348  272.265076\n",
       "3      -10.0      71.0 1979-05-04 16:00:00  269.593445  272.149017\n",
       "4      -10.0      71.0 1979-05-05 16:00:00  267.282318  271.494873"
      ]
     },
     "execution_count": 25,
     "metadata": {},
     "output_type": "execute_result"
    }
   ],
   "source": [
    "# show first instances\n",
    "df_1999.head()"
   ]
  },
  {
   "cell_type": "code",
   "execution_count": 26,
   "metadata": {},
   "outputs": [
    {
     "data": {
      "text/plain": [
       "(74243862, 5)"
      ]
     },
     "execution_count": 26,
     "metadata": {},
     "output_type": "execute_result"
    }
   ],
   "source": [
    "# inspect shape\n",
    "df_1999.shape"
   ]
  },
  {
   "cell_type": "markdown",
   "metadata": {},
   "source": [
    "Iterating over latitude and longitude to delete observations that do not appear in either the lat or lon column of the location dataset. The result is that there might still be combinations of latitude and longitude that do not appear in the locations data. However, those will be dealt with later because the main intention of this intermediate step is to considerably decrease the data file size."
   ]
  },
  {
   "cell_type": "code",
   "execution_count": 27,
   "metadata": {},
   "outputs": [],
   "source": [
    "# first filtering\n",
    "df_1999_1 = df_1999[df_1999['latitude'].isin(locations['lat'])]"
   ]
  },
  {
   "cell_type": "code",
   "execution_count": 28,
   "metadata": {},
   "outputs": [
    {
     "data": {
      "text/plain": [
       "(24928596, 5)"
      ]
     },
     "execution_count": 28,
     "metadata": {},
     "output_type": "execute_result"
    }
   ],
   "source": [
    "# inspect shape\n",
    "df_1999_1.shape"
   ]
  },
  {
   "cell_type": "code",
   "execution_count": 29,
   "metadata": {},
   "outputs": [
    {
     "data": {
      "text/html": [
       "<div>\n",
       "<style scoped>\n",
       "    .dataframe tbody tr th:only-of-type {\n",
       "        vertical-align: middle;\n",
       "    }\n",
       "\n",
       "    .dataframe tbody tr th {\n",
       "        vertical-align: top;\n",
       "    }\n",
       "\n",
       "    .dataframe thead th {\n",
       "        text-align: right;\n",
       "    }\n",
       "</style>\n",
       "<table border=\"1\" class=\"dataframe\">\n",
       "  <thead>\n",
       "    <tr style=\"text-align: right;\">\n",
       "      <th></th>\n",
       "      <th>longitude</th>\n",
       "      <th>latitude</th>\n",
       "      <th>time</th>\n",
       "      <th>d2m</th>\n",
       "      <th>t2m</th>\n",
       "    </tr>\n",
       "  </thead>\n",
       "  <tbody>\n",
       "    <tr>\n",
       "      <th>3366</th>\n",
       "      <td>-10.0</td>\n",
       "      <td>70.75</td>\n",
       "      <td>1979-05-01 16:00:00</td>\n",
       "      <td>267.097534</td>\n",
       "      <td>271.335846</td>\n",
       "    </tr>\n",
       "    <tr>\n",
       "      <th>3367</th>\n",
       "      <td>-10.0</td>\n",
       "      <td>70.75</td>\n",
       "      <td>1979-05-02 16:00:00</td>\n",
       "      <td>266.065735</td>\n",
       "      <td>270.380005</td>\n",
       "    </tr>\n",
       "    <tr>\n",
       "      <th>3368</th>\n",
       "      <td>-10.0</td>\n",
       "      <td>70.75</td>\n",
       "      <td>1979-05-03 16:00:00</td>\n",
       "      <td>269.296387</td>\n",
       "      <td>272.400024</td>\n",
       "    </tr>\n",
       "    <tr>\n",
       "      <th>3369</th>\n",
       "      <td>-10.0</td>\n",
       "      <td>70.75</td>\n",
       "      <td>1979-05-04 16:00:00</td>\n",
       "      <td>269.535095</td>\n",
       "      <td>272.287415</td>\n",
       "    </tr>\n",
       "    <tr>\n",
       "      <th>3370</th>\n",
       "      <td>-10.0</td>\n",
       "      <td>70.75</td>\n",
       "      <td>1979-05-05 16:00:00</td>\n",
       "      <td>267.510406</td>\n",
       "      <td>271.577393</td>\n",
       "    </tr>\n",
       "  </tbody>\n",
       "</table>\n",
       "</div>"
      ],
      "text/plain": [
       "      longitude  latitude                time         d2m         t2m\n",
       "3366      -10.0     70.75 1979-05-01 16:00:00  267.097534  271.335846\n",
       "3367      -10.0     70.75 1979-05-02 16:00:00  266.065735  270.380005\n",
       "3368      -10.0     70.75 1979-05-03 16:00:00  269.296387  272.400024\n",
       "3369      -10.0     70.75 1979-05-04 16:00:00  269.535095  272.287415\n",
       "3370      -10.0     70.75 1979-05-05 16:00:00  267.510406  271.577393"
      ]
     },
     "execution_count": 29,
     "metadata": {},
     "output_type": "execute_result"
    }
   ],
   "source": [
    "# inspect instances\n",
    "df_1999_1.head()"
   ]
  },
  {
   "cell_type": "code",
   "execution_count": 30,
   "metadata": {},
   "outputs": [],
   "source": [
    "# second filtering\n",
    "df_1999_1 = df_1999_1[df_1999_1['longitude'].isin(locations['lon'])]"
   ]
  },
  {
   "cell_type": "code",
   "execution_count": 31,
   "metadata": {},
   "outputs": [
    {
     "data": {
      "text/plain": [
       "(8361144, 5)"
      ]
     },
     "execution_count": 31,
     "metadata": {},
     "output_type": "execute_result"
    }
   ],
   "source": [
    "# inspect shape\n",
    "df_1999_1.shape"
   ]
  },
  {
   "cell_type": "code",
   "execution_count": 32,
   "metadata": {},
   "outputs": [],
   "source": [
    "# drop time column\n",
    "df_1999 = df_1999_1.drop('time', 1)"
   ]
  },
  {
   "cell_type": "code",
   "execution_count": 33,
   "metadata": {},
   "outputs": [
    {
     "data": {
      "text/html": [
       "<div>\n",
       "<style scoped>\n",
       "    .dataframe tbody tr th:only-of-type {\n",
       "        vertical-align: middle;\n",
       "    }\n",
       "\n",
       "    .dataframe tbody tr th {\n",
       "        vertical-align: top;\n",
       "    }\n",
       "\n",
       "    .dataframe thead th {\n",
       "        text-align: right;\n",
       "    }\n",
       "</style>\n",
       "<table border=\"1\" class=\"dataframe\">\n",
       "  <thead>\n",
       "    <tr style=\"text-align: right;\">\n",
       "      <th></th>\n",
       "      <th>longitude</th>\n",
       "      <th>latitude</th>\n",
       "      <th>d2m</th>\n",
       "      <th>t2m</th>\n",
       "    </tr>\n",
       "  </thead>\n",
       "  <tbody>\n",
       "    <tr>\n",
       "      <th>3366</th>\n",
       "      <td>-10.00</td>\n",
       "      <td>70.75</td>\n",
       "      <td>267.097534</td>\n",
       "      <td>271.335846</td>\n",
       "    </tr>\n",
       "    <tr>\n",
       "      <th>3367</th>\n",
       "      <td>-10.00</td>\n",
       "      <td>70.75</td>\n",
       "      <td>266.065735</td>\n",
       "      <td>270.380005</td>\n",
       "    </tr>\n",
       "    <tr>\n",
       "      <th>3368</th>\n",
       "      <td>-10.00</td>\n",
       "      <td>70.75</td>\n",
       "      <td>269.296387</td>\n",
       "      <td>272.400024</td>\n",
       "    </tr>\n",
       "    <tr>\n",
       "      <th>3369</th>\n",
       "      <td>-10.00</td>\n",
       "      <td>70.75</td>\n",
       "      <td>269.535095</td>\n",
       "      <td>272.287415</td>\n",
       "    </tr>\n",
       "    <tr>\n",
       "      <th>3370</th>\n",
       "      <td>-10.00</td>\n",
       "      <td>70.75</td>\n",
       "      <td>267.510406</td>\n",
       "      <td>271.577393</td>\n",
       "    </tr>\n",
       "    <tr>\n",
       "      <th>...</th>\n",
       "      <td>...</td>\n",
       "      <td>...</td>\n",
       "      <td>...</td>\n",
       "      <td>...</td>\n",
       "    </tr>\n",
       "    <tr>\n",
       "      <th>73782715</th>\n",
       "      <td>29.75</td>\n",
       "      <td>37.00</td>\n",
       "      <td>278.057312</td>\n",
       "      <td>290.700531</td>\n",
       "    </tr>\n",
       "    <tr>\n",
       "      <th>73782716</th>\n",
       "      <td>29.75</td>\n",
       "      <td>37.00</td>\n",
       "      <td>280.260559</td>\n",
       "      <td>288.038422</td>\n",
       "    </tr>\n",
       "    <tr>\n",
       "      <th>73782717</th>\n",
       "      <td>29.75</td>\n",
       "      <td>37.00</td>\n",
       "      <td>276.140472</td>\n",
       "      <td>288.576508</td>\n",
       "    </tr>\n",
       "    <tr>\n",
       "      <th>73782718</th>\n",
       "      <td>29.75</td>\n",
       "      <td>37.00</td>\n",
       "      <td>277.618774</td>\n",
       "      <td>288.017792</td>\n",
       "    </tr>\n",
       "    <tr>\n",
       "      <th>73782719</th>\n",
       "      <td>29.75</td>\n",
       "      <td>37.00</td>\n",
       "      <td>277.992767</td>\n",
       "      <td>288.473358</td>\n",
       "    </tr>\n",
       "  </tbody>\n",
       "</table>\n",
       "<p>8361144 rows × 4 columns</p>\n",
       "</div>"
      ],
      "text/plain": [
       "          longitude  latitude         d2m         t2m\n",
       "3366         -10.00     70.75  267.097534  271.335846\n",
       "3367         -10.00     70.75  266.065735  270.380005\n",
       "3368         -10.00     70.75  269.296387  272.400024\n",
       "3369         -10.00     70.75  269.535095  272.287415\n",
       "3370         -10.00     70.75  267.510406  271.577393\n",
       "...             ...       ...         ...         ...\n",
       "73782715      29.75     37.00  278.057312  290.700531\n",
       "73782716      29.75     37.00  280.260559  288.038422\n",
       "73782717      29.75     37.00  276.140472  288.576508\n",
       "73782718      29.75     37.00  277.618774  288.017792\n",
       "73782719      29.75     37.00  277.992767  288.473358\n",
       "\n",
       "[8361144 rows x 4 columns]"
      ]
     },
     "execution_count": 33,
     "metadata": {},
     "output_type": "execute_result"
    }
   ],
   "source": [
    "# inspect data\n",
    "df_1999"
   ]
  },
  {
   "cell_type": "markdown",
   "metadata": {},
   "source": [
    "Refining the filtered rows by creating a new column that combines latitude and longitude. A step that was considered to be too demanding in terms of data storage before."
   ]
  },
  {
   "cell_type": "code",
   "execution_count": 34,
   "metadata": {},
   "outputs": [],
   "source": [
    "# get coordinates\n",
    "df_1999['lat_long'] = df_1999[['latitude', 'longitude']].apply(tuple, axis=1)"
   ]
  },
  {
   "cell_type": "code",
   "execution_count": 35,
   "metadata": {},
   "outputs": [],
   "source": [
    "# keep only instances whose coordinates are in the locations df\n",
    "df_1999 = df_1999[df_1999['lat_long'].isin(locations['lat_long'])]"
   ]
  },
  {
   "cell_type": "code",
   "execution_count": 36,
   "metadata": {},
   "outputs": [
    {
     "data": {
      "text/plain": [
       "(3891096, 5)"
      ]
     },
     "execution_count": 36,
     "metadata": {},
     "output_type": "execute_result"
    }
   ],
   "source": [
    "# inspect shape\n",
    "df_1999.shape"
   ]
  },
  {
   "cell_type": "code",
   "execution_count": 37,
   "metadata": {},
   "outputs": [
    {
     "name": "stderr",
     "output_type": "stream",
     "text": [
      "<ipython-input-37-f85d3edc37b1>:2: SettingWithCopyWarning: \n",
      "A value is trying to be set on a copy of a slice from a DataFrame.\n",
      "Try using .loc[row_indexer,col_indexer] = value instead\n",
      "\n",
      "See the caveats in the documentation: https://pandas.pydata.org/pandas-docs/stable/user_guide/indexing.html#returning-a-view-versus-a-copy\n",
      "  df_1999['t2m'] = df_1999['t2m']-273.15\n",
      "<ipython-input-37-f85d3edc37b1>:3: SettingWithCopyWarning: \n",
      "A value is trying to be set on a copy of a slice from a DataFrame.\n",
      "Try using .loc[row_indexer,col_indexer] = value instead\n",
      "\n",
      "See the caveats in the documentation: https://pandas.pydata.org/pandas-docs/stable/user_guide/indexing.html#returning-a-view-versus-a-copy\n",
      "  df_1999['d2m'] = df_1999['d2m']-273.15\n"
     ]
    }
   ],
   "source": [
    "# get clesius\n",
    "df_1999['t2m'] = df_1999['t2m']-273.15\n",
    "df_1999['d2m'] = df_1999['d2m']-273.15"
   ]
  },
  {
   "cell_type": "code",
   "execution_count": 38,
   "metadata": {},
   "outputs": [
    {
     "name": "stderr",
     "output_type": "stream",
     "text": [
      "<ipython-input-38-8caf9dcf8e8d>:2: SettingWithCopyWarning: \n",
      "A value is trying to be set on a copy of a slice from a DataFrame.\n",
      "Try using .loc[row_indexer,col_indexer] = value instead\n",
      "\n",
      "See the caveats in the documentation: https://pandas.pydata.org/pandas-docs/stable/user_guide/indexing.html#returning-a-view-versus-a-copy\n",
      "  df_1999['apparent_temperature'] = -2.653+(0.994*df_1999['t2m'])+(0.0153*df_1999['d2m']**2)\n"
     ]
    }
   ],
   "source": [
    "# get apparent temperature\n",
    "df_1999['apparent_temperature'] = -2.653+(0.994*df_1999['t2m'])+(0.0153*df_1999['d2m']**2)"
   ]
  },
  {
   "cell_type": "code",
   "execution_count": 40,
   "metadata": {},
   "outputs": [
    {
     "data": {
      "text/plain": [
       "(3891096, 6)"
      ]
     },
     "execution_count": 40,
     "metadata": {},
     "output_type": "execute_result"
    }
   ],
   "source": [
    "df_1999.shape"
   ]
  },
  {
   "cell_type": "code",
   "execution_count": 41,
   "metadata": {},
   "outputs": [
    {
     "data": {
      "text/plain": [
       "(1591812, 6)"
      ]
     },
     "execution_count": 41,
     "metadata": {},
     "output_type": "execute_result"
    }
   ],
   "source": [
    "df_78.shape"
   ]
  },
  {
   "cell_type": "code",
   "execution_count": 42,
   "metadata": {},
   "outputs": [
    {
     "data": {
      "text/plain": [
       "(5482908, 6)"
      ]
     },
     "execution_count": 42,
     "metadata": {},
     "output_type": "execute_result"
    }
   ],
   "source": [
    "# Concatenating the data from 1970-1978 with the data from 1979-1999\n",
    "df_70_99 = pd.concat([df_78, df_1999])\n",
    "df_70_99.shape"
   ]
  },
  {
   "cell_type": "code",
   "execution_count": 45,
   "metadata": {},
   "outputs": [],
   "source": [
    "# get the 99th percentile per location\n",
    "quantile_70_99 = df_70_99.groupby(['latitude', 'longitude']).quantile(.99)"
   ]
  },
  {
   "cell_type": "code",
   "execution_count": 46,
   "metadata": {},
   "outputs": [
    {
     "data": {
      "text/html": [
       "<div>\n",
       "<style scoped>\n",
       "    .dataframe tbody tr th:only-of-type {\n",
       "        vertical-align: middle;\n",
       "    }\n",
       "\n",
       "    .dataframe tbody tr th {\n",
       "        vertical-align: top;\n",
       "    }\n",
       "\n",
       "    .dataframe thead th {\n",
       "        text-align: right;\n",
       "    }\n",
       "</style>\n",
       "<table border=\"1\" class=\"dataframe\">\n",
       "  <thead>\n",
       "    <tr style=\"text-align: right;\">\n",
       "      <th></th>\n",
       "      <th></th>\n",
       "      <th>d2m</th>\n",
       "      <th>t2m</th>\n",
       "      <th>apparent_temperature</th>\n",
       "    </tr>\n",
       "    <tr>\n",
       "      <th>latitude</th>\n",
       "      <th>longitude</th>\n",
       "      <th></th>\n",
       "      <th></th>\n",
       "      <th></th>\n",
       "    </tr>\n",
       "  </thead>\n",
       "  <tbody>\n",
       "    <tr>\n",
       "      <th rowspan=\"5\" valign=\"top\">37.00</th>\n",
       "      <th>-6.25</th>\n",
       "      <td>20.096707</td>\n",
       "      <td>38.971600</td>\n",
       "      <td>39.232187</td>\n",
       "    </tr>\n",
       "    <tr>\n",
       "      <th>-5.50</th>\n",
       "      <td>19.063138</td>\n",
       "      <td>38.051736</td>\n",
       "      <td>38.677543</td>\n",
       "    </tr>\n",
       "    <tr>\n",
       "      <th>-4.75</th>\n",
       "      <td>19.049752</td>\n",
       "      <td>34.922610</td>\n",
       "      <td>35.727877</td>\n",
       "    </tr>\n",
       "    <tr>\n",
       "      <th>-4.00</th>\n",
       "      <td>18.862826</td>\n",
       "      <td>33.302654</td>\n",
       "      <td>33.167269</td>\n",
       "    </tr>\n",
       "    <tr>\n",
       "      <th>-3.25</th>\n",
       "      <td>16.045638</td>\n",
       "      <td>31.926669</td>\n",
       "      <td>30.210756</td>\n",
       "    </tr>\n",
       "    <tr>\n",
       "      <th>...</th>\n",
       "      <th>...</th>\n",
       "      <td>...</td>\n",
       "      <td>...</td>\n",
       "      <td>...</td>\n",
       "    </tr>\n",
       "    <tr>\n",
       "      <th>70.00</th>\n",
       "      <th>29.00</th>\n",
       "      <td>14.545596</td>\n",
       "      <td>24.339234</td>\n",
       "      <td>23.777039</td>\n",
       "    </tr>\n",
       "    <tr>\n",
       "      <th rowspan=\"4\" valign=\"top\">70.75</th>\n",
       "      <th>24.50</th>\n",
       "      <td>13.737318</td>\n",
       "      <td>21.566346</td>\n",
       "      <td>20.787273</td>\n",
       "    </tr>\n",
       "    <tr>\n",
       "      <th>25.25</th>\n",
       "      <td>13.840844</td>\n",
       "      <td>21.866741</td>\n",
       "      <td>21.309028</td>\n",
       "    </tr>\n",
       "    <tr>\n",
       "      <th>27.50</th>\n",
       "      <td>13.529815</td>\n",
       "      <td>21.956956</td>\n",
       "      <td>21.426597</td>\n",
       "    </tr>\n",
       "    <tr>\n",
       "      <th>29.00</th>\n",
       "      <td>13.160748</td>\n",
       "      <td>20.866163</td>\n",
       "      <td>20.288127</td>\n",
       "    </tr>\n",
       "  </tbody>\n",
       "</table>\n",
       "<p>1156 rows × 3 columns</p>\n",
       "</div>"
      ],
      "text/plain": [
       "                          d2m        t2m  apparent_temperature\n",
       "latitude longitude                                            \n",
       "37.00    -6.25      20.096707  38.971600             39.232187\n",
       "         -5.50      19.063138  38.051736             38.677543\n",
       "         -4.75      19.049752  34.922610             35.727877\n",
       "         -4.00      18.862826  33.302654             33.167269\n",
       "         -3.25      16.045638  31.926669             30.210756\n",
       "...                       ...        ...                   ...\n",
       "70.00     29.00     14.545596  24.339234             23.777039\n",
       "70.75     24.50     13.737318  21.566346             20.787273\n",
       "          25.25     13.840844  21.866741             21.309028\n",
       "          27.50     13.529815  21.956956             21.426597\n",
       "          29.00     13.160748  20.866163             20.288127\n",
       "\n",
       "[1156 rows x 3 columns]"
      ]
     },
     "execution_count": 46,
     "metadata": {},
     "output_type": "execute_result"
    }
   ],
   "source": [
    "# inspect the percentiles for some locations\n",
    "quantile_70_99"
   ]
  },
  {
   "cell_type": "code",
   "execution_count": 47,
   "metadata": {},
   "outputs": [],
   "source": [
    "# get coordinates as column\n",
    "quantile_70_99 = quantile_70_99.reset_index(level=['longitude', 'latitude'])"
   ]
  },
  {
   "cell_type": "code",
   "execution_count": 48,
   "metadata": {},
   "outputs": [
    {
     "data": {
      "text/html": [
       "<div>\n",
       "<style scoped>\n",
       "    .dataframe tbody tr th:only-of-type {\n",
       "        vertical-align: middle;\n",
       "    }\n",
       "\n",
       "    .dataframe tbody tr th {\n",
       "        vertical-align: top;\n",
       "    }\n",
       "\n",
       "    .dataframe thead th {\n",
       "        text-align: right;\n",
       "    }\n",
       "</style>\n",
       "<table border=\"1\" class=\"dataframe\">\n",
       "  <thead>\n",
       "    <tr style=\"text-align: right;\">\n",
       "      <th></th>\n",
       "      <th>latitude</th>\n",
       "      <th>longitude</th>\n",
       "      <th>d2m</th>\n",
       "      <th>t2m</th>\n",
       "      <th>apparent_temperature</th>\n",
       "    </tr>\n",
       "  </thead>\n",
       "  <tbody>\n",
       "    <tr>\n",
       "      <th>1139</th>\n",
       "      <td>70.00</td>\n",
       "      <td>18.50</td>\n",
       "      <td>11.979330</td>\n",
       "      <td>15.275835</td>\n",
       "      <td>14.248363</td>\n",
       "    </tr>\n",
       "    <tr>\n",
       "      <th>1140</th>\n",
       "      <td>70.00</td>\n",
       "      <td>19.25</td>\n",
       "      <td>12.269667</td>\n",
       "      <td>17.629803</td>\n",
       "      <td>16.702019</td>\n",
       "    </tr>\n",
       "    <tr>\n",
       "      <th>903</th>\n",
       "      <td>61.75</td>\n",
       "      <td>8.00</td>\n",
       "      <td>9.678231</td>\n",
       "      <td>18.684970</td>\n",
       "      <td>16.776928</td>\n",
       "    </tr>\n",
       "    <tr>\n",
       "      <th>352</th>\n",
       "      <td>46.75</td>\n",
       "      <td>10.25</td>\n",
       "      <td>9.812175</td>\n",
       "      <td>19.244250</td>\n",
       "      <td>16.979467</td>\n",
       "    </tr>\n",
       "    <tr>\n",
       "      <th>873</th>\n",
       "      <td>61.00</td>\n",
       "      <td>5.00</td>\n",
       "      <td>14.568381</td>\n",
       "      <td>17.430023</td>\n",
       "      <td>17.383223</td>\n",
       "    </tr>\n",
       "    <tr>\n",
       "      <th>...</th>\n",
       "      <td>...</td>\n",
       "      <td>...</td>\n",
       "      <td>...</td>\n",
       "      <td>...</td>\n",
       "      <td>...</td>\n",
       "    </tr>\n",
       "    <tr>\n",
       "      <th>30</th>\n",
       "      <td>38.50</td>\n",
       "      <td>-7.00</td>\n",
       "      <td>17.649606</td>\n",
       "      <td>38.660677</td>\n",
       "      <td>38.612960</td>\n",
       "    </tr>\n",
       "    <tr>\n",
       "      <th>1</th>\n",
       "      <td>37.00</td>\n",
       "      <td>-5.50</td>\n",
       "      <td>19.063138</td>\n",
       "      <td>38.051736</td>\n",
       "      <td>38.677543</td>\n",
       "    </tr>\n",
       "    <tr>\n",
       "      <th>0</th>\n",
       "      <td>37.00</td>\n",
       "      <td>-6.25</td>\n",
       "      <td>20.096707</td>\n",
       "      <td>38.971600</td>\n",
       "      <td>39.232187</td>\n",
       "    </tr>\n",
       "    <tr>\n",
       "      <th>12</th>\n",
       "      <td>37.75</td>\n",
       "      <td>-5.50</td>\n",
       "      <td>18.241062</td>\n",
       "      <td>39.995458</td>\n",
       "      <td>39.892451</td>\n",
       "    </tr>\n",
       "    <tr>\n",
       "      <th>13</th>\n",
       "      <td>37.75</td>\n",
       "      <td>-4.75</td>\n",
       "      <td>18.878832</td>\n",
       "      <td>39.849390</td>\n",
       "      <td>40.547950</td>\n",
       "    </tr>\n",
       "  </tbody>\n",
       "</table>\n",
       "<p>1156 rows × 5 columns</p>\n",
       "</div>"
      ],
      "text/plain": [
       "      latitude  longitude        d2m        t2m  apparent_temperature\n",
       "1139     70.00      18.50  11.979330  15.275835             14.248363\n",
       "1140     70.00      19.25  12.269667  17.629803             16.702019\n",
       "903      61.75       8.00   9.678231  18.684970             16.776928\n",
       "352      46.75      10.25   9.812175  19.244250             16.979467\n",
       "873      61.00       5.00  14.568381  17.430023             17.383223\n",
       "...        ...        ...        ...        ...                   ...\n",
       "30       38.50      -7.00  17.649606  38.660677             38.612960\n",
       "1        37.00      -5.50  19.063138  38.051736             38.677543\n",
       "0        37.00      -6.25  20.096707  38.971600             39.232187\n",
       "12       37.75      -5.50  18.241062  39.995458             39.892451\n",
       "13       37.75      -4.75  18.878832  39.849390             40.547950\n",
       "\n",
       "[1156 rows x 5 columns]"
      ]
     },
     "execution_count": 48,
     "metadata": {},
     "output_type": "execute_result"
    }
   ],
   "source": [
    "# sort by lowest percentile in apparent temperature\n",
    "quantile_70_99.sort_values(by=['apparent_temperature'])"
   ]
  },
  {
   "cell_type": "code",
   "execution_count": 61,
   "metadata": {},
   "outputs": [],
   "source": [
    "# write result to csv\n",
    "quantile_70_99.to_csv('quantile_thresholds.csv')"
   ]
  },
  {
   "cell_type": "markdown",
   "metadata": {},
   "source": []
  }
 ],
 "metadata": {
  "kernelspec": {
   "display_name": "Python 3",
   "language": "python",
   "name": "python3"
  },
  "language_info": {
   "codemirror_mode": {
    "name": "ipython",
    "version": 3
   },
   "file_extension": ".py",
   "mimetype": "text/x-python",
   "name": "python",
   "nbconvert_exporter": "python",
   "pygments_lexer": "ipython3",
   "version": "3.8.5"
  }
 },
 "nbformat": 4,
 "nbformat_minor": 4
}
